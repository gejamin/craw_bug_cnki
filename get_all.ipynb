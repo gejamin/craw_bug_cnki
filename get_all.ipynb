{
 "cells": [
  {
   "cell_type": "code",
   "execution_count": 1,
   "metadata": {},
   "outputs": [],
   "source": [
    "import pandas as pd\n",
    "import glob\n",
    "import numpy as np"
   ]
  },
  {
   "cell_type": "code",
   "execution_count": 33,
   "metadata": {},
   "outputs": [
    {
     "data": {
      "text/plain": [
       "361"
      ]
     },
     "execution_count": 33,
     "metadata": {},
     "output_type": "execute_result"
    }
   ],
   "source": [
    "filename=glob.glob('./data/*.csv')\n",
    "abstract_links=pd.DataFrame()\n",
    "for path in filename:\n",
    "    data=pd.read_csv(path,header=None)\n",
    "    abstract_links=pd.concat([abstract_links,data],axis=0)\n",
    "np.sum(np.array(abstract_links.duplicated()))"
   ]
  },
  {
   "cell_type": "code",
   "execution_count": 35,
   "metadata": {},
   "outputs": [
    {
     "data": {
      "text/html": [
       "<div>\n",
       "<style scoped>\n",
       "    .dataframe tbody tr th:only-of-type {\n",
       "        vertical-align: middle;\n",
       "    }\n",
       "\n",
       "    .dataframe tbody tr th {\n",
       "        vertical-align: top;\n",
       "    }\n",
       "\n",
       "    .dataframe thead th {\n",
       "        text-align: right;\n",
       "    }\n",
       "</style>\n",
       "<table border=\"1\" class=\"dataframe\">\n",
       "  <thead>\n",
       "    <tr style=\"text-align: right;\">\n",
       "      <th></th>\n",
       "      <th>0</th>\n",
       "      <th>1</th>\n",
       "    </tr>\n",
       "  </thead>\n",
       "  <tbody>\n",
       "    <tr>\n",
       "      <th>0</th>\n",
       "      <td>0</td>\n",
       "      <td>\\r\\n目前国内外规划和建设了多个超/特高压直流输电工程,其中输电线路杆塔塔头的空气间隙距离...</td>\n",
       "    </tr>\n",
       "    <tr>\n",
       "      <th>1</th>\n",
       "      <td>0</td>\n",
       "      <td>\\r\\n风沙对电力系统外绝缘放电的影响已引起广泛关注,由于污秽绝缘子的闪络与沉积在绝缘子表面...</td>\n",
       "    </tr>\n",
       "    <tr>\n",
       "      <th>2</th>\n",
       "      <td>0</td>\n",
       "      <td>\\r\\n为向国内高海拔地区特高压直流换流站外绝缘的设计提供参考,在1970m实际高海拔条件下...</td>\n",
       "    </tr>\n",
       "    <tr>\n",
       "      <th>3</th>\n",
       "      <td>0</td>\n",
       "      <td>\\r\\n以强迫弃水和有益弃水的混合弃水策略为基础,将梯级水电站看作一个整体,建立蕴涵末级水电...</td>\n",
       "    </tr>\n",
       "    <tr>\n",
       "      <th>4</th>\n",
       "      <td>0</td>\n",
       "      <td>\\r\\n在上都电厂串补输电系统上进行附加励磁阻尼控制(supplementary excit...</td>\n",
       "    </tr>\n",
       "    <tr>\n",
       "      <th>...</th>\n",
       "      <td>...</td>\n",
       "      <td>...</td>\n",
       "    </tr>\n",
       "    <tr>\n",
       "      <th>662</th>\n",
       "      <td>0</td>\n",
       "      <td>\\r\\n在加工制造领域中,高精度和多工位同步控制的重要性日益显现。传统多工位加工采用多台电机...</td>\n",
       "    </tr>\n",
       "    <tr>\n",
       "      <th>663</th>\n",
       "      <td>0</td>\n",
       "      <td>\\r\\n提出一种容错矢量控制,实现了具有非正弦反电动势的表贴式五相永磁同步电机(perman...</td>\n",
       "    </tr>\n",
       "    <tr>\n",
       "      <th>664</th>\n",
       "      <td>0</td>\n",
       "      <td>\\r\\n利用频谱模型对频域介电响应曲线进行解释,是介电响应技术在绝缘材料状态评估方面的常用手...</td>\n",
       "    </tr>\n",
       "    <tr>\n",
       "      <th>665</th>\n",
       "      <td>0</td>\n",
       "      <td>\\r\\n暴露在大气环境中的绝缘设备受到运行状态或者大气运动的影响,其绝缘介质表面往往处于气流...</td>\n",
       "    </tr>\n",
       "    <tr>\n",
       "      <th>666</th>\n",
       "      <td>0</td>\n",
       "      <td>\\r\\n针对配备有混合无功补偿的特高压输电线路发生单相接地故障情况,分析了特高压混合无功补偿...</td>\n",
       "    </tr>\n",
       "  </tbody>\n",
       "</table>\n",
       "<p>50261 rows × 2 columns</p>\n",
       "</div>"
      ],
      "text/plain": [
       "     0                                                  1\n",
       "0    0  \\r\\n目前国内外规划和建设了多个超/特高压直流输电工程,其中输电线路杆塔塔头的空气间隙距离...\n",
       "1    0  \\r\\n风沙对电力系统外绝缘放电的影响已引起广泛关注,由于污秽绝缘子的闪络与沉积在绝缘子表面...\n",
       "2    0  \\r\\n为向国内高海拔地区特高压直流换流站外绝缘的设计提供参考,在1970m实际高海拔条件下...\n",
       "3    0  \\r\\n以强迫弃水和有益弃水的混合弃水策略为基础,将梯级水电站看作一个整体,建立蕴涵末级水电...\n",
       "4    0  \\r\\n在上都电厂串补输电系统上进行附加励磁阻尼控制(supplementary excit...\n",
       "..  ..                                                ...\n",
       "662  0  \\r\\n在加工制造领域中,高精度和多工位同步控制的重要性日益显现。传统多工位加工采用多台电机...\n",
       "663  0  \\r\\n提出一种容错矢量控制,实现了具有非正弦反电动势的表贴式五相永磁同步电机(perman...\n",
       "664  0  \\r\\n利用频谱模型对频域介电响应曲线进行解释,是介电响应技术在绝缘材料状态评估方面的常用手...\n",
       "665  0  \\r\\n暴露在大气环境中的绝缘设备受到运行状态或者大气运动的影响,其绝缘介质表面往往处于气流...\n",
       "666  0  \\r\\n针对配备有混合无功补偿的特高压输电线路发生单相接地故障情况,分析了特高压混合无功补偿...\n",
       "\n",
       "[50261 rows x 2 columns]"
      ]
     },
     "execution_count": 35,
     "metadata": {},
     "output_type": "execute_result"
    }
   ],
   "source": [
    "abstract_links.drop_duplicates()"
   ]
  },
  {
   "cell_type": "code",
   "execution_count": 4,
   "metadata": {},
   "outputs": [],
   "source": [
    "abstract_links=pd.read_csv('./links/abstracts.csv',header=None)"
   ]
  },
  {
   "cell_type": "code",
   "execution_count": 6,
   "metadata": {},
   "outputs": [
    {
     "data": {
      "text/html": [
       "<div>\n",
       "<style scoped>\n",
       "    .dataframe tbody tr th:only-of-type {\n",
       "        vertical-align: middle;\n",
       "    }\n",
       "\n",
       "    .dataframe tbody tr th {\n",
       "        vertical-align: top;\n",
       "    }\n",
       "\n",
       "    .dataframe thead th {\n",
       "        text-align: right;\n",
       "    }\n",
       "</style>\n",
       "<table border=\"1\" class=\"dataframe\">\n",
       "  <thead>\n",
       "    <tr style=\"text-align: right;\">\n",
       "      <th></th>\n",
       "      <th>0</th>\n",
       "      <th>1</th>\n",
       "      <th>2</th>\n",
       "    </tr>\n",
       "  </thead>\n",
       "  <tbody>\n",
       "    <tr>\n",
       "      <th>0</th>\n",
       "      <td>NaN</td>\n",
       "      <td>0</td>\n",
       "      <td>1</td>\n",
       "    </tr>\n",
       "    <tr>\n",
       "      <th>1</th>\n",
       "      <td>0.0</td>\n",
       "      <td>0</td>\n",
       "      <td>\\r\\n目前国内外规划和建设了多个超/特高压直流输电工程,其中输电线路杆塔塔头的空气间隙距离...</td>\n",
       "    </tr>\n",
       "    <tr>\n",
       "      <th>2</th>\n",
       "      <td>1.0</td>\n",
       "      <td>0</td>\n",
       "      <td>\\r\\n风沙对电力系统外绝缘放电的影响已引起广泛关注,由于污秽绝缘子的闪络与沉积在绝缘子表面...</td>\n",
       "    </tr>\n",
       "    <tr>\n",
       "      <th>3</th>\n",
       "      <td>2.0</td>\n",
       "      <td>0</td>\n",
       "      <td>\\r\\n为向国内高海拔地区特高压直流换流站外绝缘的设计提供参考,在1970m实际高海拔条件下...</td>\n",
       "    </tr>\n",
       "    <tr>\n",
       "      <th>4</th>\n",
       "      <td>3.0</td>\n",
       "      <td>0</td>\n",
       "      <td>\\r\\n以强迫弃水和有益弃水的混合弃水策略为基础,将梯级水电站看作一个整体,建立蕴涵末级水电...</td>\n",
       "    </tr>\n",
       "    <tr>\n",
       "      <th>...</th>\n",
       "      <td>...</td>\n",
       "      <td>...</td>\n",
       "      <td>...</td>\n",
       "    </tr>\n",
       "    <tr>\n",
       "      <th>50618</th>\n",
       "      <td>662.0</td>\n",
       "      <td>0</td>\n",
       "      <td>\\r\\n在加工制造领域中,高精度和多工位同步控制的重要性日益显现。传统多工位加工采用多台电机...</td>\n",
       "    </tr>\n",
       "    <tr>\n",
       "      <th>50619</th>\n",
       "      <td>663.0</td>\n",
       "      <td>0</td>\n",
       "      <td>\\r\\n提出一种容错矢量控制,实现了具有非正弦反电动势的表贴式五相永磁同步电机(perman...</td>\n",
       "    </tr>\n",
       "    <tr>\n",
       "      <th>50620</th>\n",
       "      <td>664.0</td>\n",
       "      <td>0</td>\n",
       "      <td>\\r\\n利用频谱模型对频域介电响应曲线进行解释,是介电响应技术在绝缘材料状态评估方面的常用手...</td>\n",
       "    </tr>\n",
       "    <tr>\n",
       "      <th>50621</th>\n",
       "      <td>665.0</td>\n",
       "      <td>0</td>\n",
       "      <td>\\r\\n暴露在大气环境中的绝缘设备受到运行状态或者大气运动的影响,其绝缘介质表面往往处于气流...</td>\n",
       "    </tr>\n",
       "    <tr>\n",
       "      <th>50622</th>\n",
       "      <td>666.0</td>\n",
       "      <td>0</td>\n",
       "      <td>\\r\\n针对配备有混合无功补偿的特高压输电线路发生单相接地故障情况,分析了特高压混合无功补偿...</td>\n",
       "    </tr>\n",
       "  </tbody>\n",
       "</table>\n",
       "<p>50620 rows × 3 columns</p>\n",
       "</div>"
      ],
      "text/plain": [
       "           0  1                                                  2\n",
       "0        NaN  0                                                  1\n",
       "1        0.0  0  \\r\\n目前国内外规划和建设了多个超/特高压直流输电工程,其中输电线路杆塔塔头的空气间隙距离...\n",
       "2        1.0  0  \\r\\n风沙对电力系统外绝缘放电的影响已引起广泛关注,由于污秽绝缘子的闪络与沉积在绝缘子表面...\n",
       "3        2.0  0  \\r\\n为向国内高海拔地区特高压直流换流站外绝缘的设计提供参考,在1970m实际高海拔条件下...\n",
       "4        3.0  0  \\r\\n以强迫弃水和有益弃水的混合弃水策略为基础,将梯级水电站看作一个整体,建立蕴涵末级水电...\n",
       "...      ... ..                                                ...\n",
       "50618  662.0  0  \\r\\n在加工制造领域中,高精度和多工位同步控制的重要性日益显现。传统多工位加工采用多台电机...\n",
       "50619  663.0  0  \\r\\n提出一种容错矢量控制,实现了具有非正弦反电动势的表贴式五相永磁同步电机(perman...\n",
       "50620  664.0  0  \\r\\n利用频谱模型对频域介电响应曲线进行解释,是介电响应技术在绝缘材料状态评估方面的常用手...\n",
       "50621  665.0  0  \\r\\n暴露在大气环境中的绝缘设备受到运行状态或者大气运动的影响,其绝缘介质表面往往处于气流...\n",
       "50622  666.0  0  \\r\\n针对配备有混合无功补偿的特高压输电线路发生单相接地故障情况,分析了特高压混合无功补偿...\n",
       "\n",
       "[50620 rows x 3 columns]"
      ]
     },
     "execution_count": 6,
     "metadata": {},
     "output_type": "execute_result"
    }
   ],
   "source": [
    "abstract_links.drop_duplicates()"
   ]
  },
  {
   "cell_type": "code",
   "execution_count": null,
   "metadata": {},
   "outputs": [],
   "source": []
  },
  {
   "cell_type": "code",
   "execution_count": 8,
   "metadata": {},
   "outputs": [
    {
     "data": {
      "text/plain": [
       "3"
      ]
     },
     "execution_count": 8,
     "metadata": {},
     "output_type": "execute_result"
    }
   ],
   "source": [
    "np.sum(np.array(abstract_links.duplicated()))"
   ]
  }
 ],
 "metadata": {
  "kernelspec": {
   "display_name": "Python 3",
   "language": "python",
   "name": "python3"
  },
  "language_info": {
   "codemirror_mode": {
    "name": "ipython",
    "version": 3
   },
   "file_extension": ".py",
   "mimetype": "text/x-python",
   "name": "python",
   "nbconvert_exporter": "python",
   "pygments_lexer": "ipython3",
   "version": "3.8.5"
  }
 },
 "nbformat": 4,
 "nbformat_minor": 4
}
